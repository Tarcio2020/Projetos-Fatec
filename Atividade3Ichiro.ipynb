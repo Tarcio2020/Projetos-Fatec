{
 "cells": [
  {
   "cell_type": "code",
   "execution_count": null,
   "id": "cafad36a-8fae-466e-b92b-f9f34825fdd9",
   "metadata": {},
   "outputs": [],
   "source": [
    "Automação Web e Busca de Informações com Python¶\n",
    "Desafio:\n",
    "Trabalhamos em uma importadora e o preço dos nossos produtos é vinculado a cotação de:\n",
    "\n",
    "Dólar\n",
    "Euro\n",
    "Ouro\n",
    "Precisamos pegar na internet, de forma automática, a cotação desses 3 itens e saber quanto devemos cobrar pelos nossos produtos, considerando uma margem de contribuição que temos na nossa base de dados.\n",
    "\n",
    "Base de Dados: https://drive.google.com/drive/folders/1KmAdo593nD8J9QBaZxPOG1yxHZua4Rtv?usp=sharing\n",
    "\n",
    "Para isso, vamos criar uma automação web:\n",
    "\n",
    "Usaremos o selenium\n",
    "Importante: baixar o webdriver"
   ]
  },
  {
   "cell_type": "code",
   "execution_count": 1,
   "id": "3ce04e9c-01e8-4db0-82f1-bc03a1e1ff40",
   "metadata": {},
   "outputs": [
    {
     "name": "stdout",
     "output_type": "stream",
     "text": [
      "Defaulting to user installation because normal site-packages is not writeable\n",
      "Requirement already satisfied: selenium in ./.local/lib/python3.10/site-packages (4.19.0)\n",
      "Requirement already satisfied: trio-websocket~=0.9 in ./.local/lib/python3.10/site-packages (from selenium) (0.11.1)\n",
      "Requirement already satisfied: urllib3[socks]<3,>=1.26 in /usr/lib/python3/dist-packages (from selenium) (1.26.5)\n",
      "Requirement already satisfied: typing_extensions>=4.9.0 in /usr/local/lib/python3.10/dist-packages (from selenium) (4.11.0)\n",
      "Requirement already satisfied: certifi>=2021.10.8 in ./.local/lib/python3.10/site-packages (from selenium) (2024.2.2)\n",
      "Requirement already satisfied: trio~=0.17 in ./.local/lib/python3.10/site-packages (from selenium) (0.25.0)\n",
      "Requirement already satisfied: exceptiongroup in /usr/local/lib/python3.10/dist-packages (from trio~=0.17->selenium) (1.2.0)\n",
      "Requirement already satisfied: sniffio>=1.3.0 in /usr/local/lib/python3.10/dist-packages (from trio~=0.17->selenium) (1.3.1)\n",
      "Requirement already satisfied: sortedcontainers in ./.local/lib/python3.10/site-packages (from trio~=0.17->selenium) (2.4.0)\n",
      "Requirement already satisfied: attrs>=23.2.0 in /usr/local/lib/python3.10/dist-packages (from trio~=0.17->selenium) (23.2.0)\n",
      "Requirement already satisfied: outcome in ./.local/lib/python3.10/site-packages (from trio~=0.17->selenium) (1.3.0.post0)\n",
      "Requirement already satisfied: idna in /usr/lib/python3/dist-packages (from trio~=0.17->selenium) (3.3)\n",
      "Requirement already satisfied: wsproto>=0.14 in ./.local/lib/python3.10/site-packages (from trio-websocket~=0.9->selenium) (1.2.0)\n",
      "Requirement already satisfied: PySocks!=1.5.7,<2.0,>=1.5.6 in ./.local/lib/python3.10/site-packages (from urllib3[socks]<3,>=1.26->selenium) (1.7.1)\n",
      "Requirement already satisfied: h11<1,>=0.9.0 in /usr/local/lib/python3.10/dist-packages (from wsproto>=0.14->trio-websocket~=0.9->selenium) (0.14.0)\n"
     ]
    }
   ],
   "source": [
    "!pip install selenium"
   ]
  },
  {
   "cell_type": "code",
   "execution_count": 2,
   "id": "b316fba5-bf33-4eeb-80a3-17124574a4e1",
   "metadata": {},
   "outputs": [
    {
     "name": "stdout",
     "output_type": "stream",
     "text": [
      "Defaulting to user installation because normal site-packages is not writeable\n",
      "Collecting webdriver_manager\n",
      "  Downloading webdriver_manager-4.0.1-py2.py3-none-any.whl (27 kB)\n",
      "Collecting python-dotenv\n",
      "  Downloading python_dotenv-1.0.1-py3-none-any.whl (19 kB)\n",
      "Requirement already satisfied: packaging in /usr/local/lib/python3.10/dist-packages (from webdriver_manager) (24.0)\n",
      "Requirement already satisfied: requests in /usr/local/lib/python3.10/dist-packages (from webdriver_manager) (2.31.0)\n",
      "Requirement already satisfied: charset-normalizer<4,>=2 in /usr/local/lib/python3.10/dist-packages (from requests->webdriver_manager) (3.3.2)\n",
      "Requirement already satisfied: certifi>=2017.4.17 in ./.local/lib/python3.10/site-packages (from requests->webdriver_manager) (2024.2.2)\n",
      "Requirement already satisfied: urllib3<3,>=1.21.1 in /usr/lib/python3/dist-packages (from requests->webdriver_manager) (1.26.5)\n",
      "Requirement already satisfied: idna<4,>=2.5 in /usr/lib/python3/dist-packages (from requests->webdriver_manager) (3.3)\n",
      "Installing collected packages: python-dotenv, webdriver_manager\n",
      "Successfully installed python-dotenv-1.0.1 webdriver_manager-4.0.1\n"
     ]
    }
   ],
   "source": [
    "!pip install webdriver_manager\n"
   ]
  },
  {
   "cell_type": "code",
   "execution_count": 13,
   "id": "1e9379b7-804d-4b8f-a61c-0cad20919a7c",
   "metadata": {},
   "outputs": [
    {
     "name": "stdout",
     "output_type": "stream",
     "text": [
      "5.1444\n",
      "381,97\n",
      "433,47\n"
     ]
    }
   ],
   "source": [
    "from selenium import webdriver\n",
    "from selenium.webdriver.common.keys import Keys\n",
    "from selenium.webdriver.common.by import By\n",
    "\n",
    "navegador = webdriver.Chrome()\n",
    "\n",
    "# Abrir a página do Google\n",
    "navegador.get(\"https://www.google.com\")\n",
    "\n",
    "# Localizar o campo de pesquisa\n",
    "campo_pesquisa = navegador.find_element(By.XPATH, '//*[@id=\"APjFqb\"]')\n",
    "\n",
    "# Preencher o campo de pesquisa com \"cotação do dólar\"\n",
    "campo_pesquisa.send_keys(\"cotação do dólar\")\n",
    "\n",
    "# Pressionar Enter para realizar a pesquisa\n",
    "campo_pesquisa.send_keys(Keys.ENTER)\n",
    "\n",
    "cotacao_Dolar = navegador.find_element(By.XPATH, '//*[@id=\"knowledge-currency__updatable-data-column\"]/div[1]/div[2]/span[1]').get_attribute('data-value')\n",
    "\n",
    "print(cotacao_Dolar)\n",
    "\n",
    "navegador.get(\"https://www.melhorcambio.com/ouro-hoje#:~:text=O%20valor%20do%20grama%20do,em%20R%24%20389%2C76.\")\n",
    "\n",
    "\n",
    "cotacao_Ouro = navegador.find_element(By.XPATH, '//*[@id=\"comercial\"]').get_attribute('value')\n",
    "\n",
    "print(cotacao_Ouro)\n",
    "\n",
    "navegador.get(\"https://www.melhorcambio.com/petroleo-hoje#:~:text=O%20valor%20do%20barril%20de,%C3%A9%20de%20car%C3%A1ter%20exclusivamente%20informativo.\")\n",
    "\n",
    "cotacao_pet = navegador.find_element(By.XPATH, '//*[@id=\"comercial\"]').get_attribute('value')\n",
    "\n",
    "print(cotacao_pet)\n"
   ]
  },
  {
   "cell_type": "code",
   "execution_count": null,
   "id": "553eaef7-892c-4656-a35d-68c91ec429ac",
   "metadata": {},
   "outputs": [],
   "source": []
  }
 ],
 "metadata": {
  "kernelspec": {
   "display_name": "Python 3 (ipykernel)",
   "language": "python",
   "name": "python3"
  },
  "language_info": {
   "codemirror_mode": {
    "name": "ipython",
    "version": 3
   },
   "file_extension": ".py",
   "mimetype": "text/x-python",
   "name": "python",
   "nbconvert_exporter": "python",
   "pygments_lexer": "ipython3",
   "version": "3.10.12"
  }
 },
 "nbformat": 4,
 "nbformat_minor": 5
}
